{
  "nbformat": 4,
  "nbformat_minor": 0,
  "metadata": {
    "colab": {
      "provenance": [],
      "collapsed_sections": [
        "UlE8dWrSb2PS"
      ],
      "mount_file_id": "18yN4F8m33mpdMW2BShsW0Gu6aXaM2bfs",
      "authorship_tag": "ABX9TyMylfZDnFrD9QqPtdd8lxj9",
      "include_colab_link": true
    },
    "kernelspec": {
      "name": "python3",
      "display_name": "Python 3"
    },
    "language_info": {
      "name": "python"
    }
  },
  "cells": [
    {
      "cell_type": "markdown",
      "metadata": {
        "id": "view-in-github",
        "colab_type": "text"
      },
      "source": [
        "<a href=\"https://colab.research.google.com/github/SharrolineGladia/project1/blob/main/actualrunning2.ipynb\" target=\"_parent\"><img src=\"https://colab.research.google.com/assets/colab-badge.svg\" alt=\"Open In Colab\"/></a>"
      ]
    },
    {
      "cell_type": "markdown",
      "source": [
        "#Import"
      ],
      "metadata": {
        "id": "UlE8dWrSb2PS"
      }
    },
    {
      "cell_type": "code",
      "execution_count": 3,
      "metadata": {
        "id": "ie2nV_E9fhVk"
      },
      "outputs": [],
      "source": [
        "#!pip install PyDrive"
      ]
    },
    {
      "cell_type": "code",
      "source": [
        "import os\n",
        "from pydrive.auth import GoogleAuth\n",
        "from pydrive.drive import GoogleDrive\n",
        "from google.colab import auth\n",
        "from oauth2client.client import GoogleCredentials\n",
        "from google.colab import files\n"
      ],
      "metadata": {
        "id": "F3V_RcT-ig88"
      },
      "execution_count": 4,
      "outputs": []
    },
    {
      "cell_type": "markdown",
      "source": [
        "#gdrive"
      ],
      "metadata": {
        "id": "NYbEN6JybtZI"
      }
    },
    {
      "cell_type": "code",
      "source": [
        "from google.colab import drive\n",
        "drive.mount('/content/drive')"
      ],
      "metadata": {
        "colab": {
          "base_uri": "https://localhost:8080/"
        },
        "id": "bnXaTvr-pzVE",
        "outputId": "876963c5-caca-40f0-d624-214eba080799"
      },
      "execution_count": 5,
      "outputs": [
        {
          "output_type": "stream",
          "name": "stdout",
          "text": [
            "Mounted at /content/drive\n"
          ]
        }
      ]
    },
    {
      "cell_type": "code",
      "source": [
        "auth.authenticate_user()\n",
        "gauth=GoogleAuth()\n",
        "gauth.credentials=GoogleCredentials.get_application_default()\n",
        "drive=GoogleDrive(gauth)"
      ],
      "metadata": {
        "id": "_fV3zEYUm-Ry"
      },
      "execution_count": 6,
      "outputs": []
    },
    {
      "cell_type": "markdown",
      "source": [
        "#Other imports"
      ],
      "metadata": {
        "id": "mvlZKSWGcIjf"
      }
    },
    {
      "cell_type": "code",
      "source": [
        "import keras\n",
        "from keras.models import Sequential\n",
        "from keras.layers import Dense, Dropout, Flatten\n",
        "from keras.layers import Conv2D, MaxPooling2D\n",
        "from keras.utils import to_categorical\n",
        "from keras.preprocessing import image\n",
        "import numpy as np\n",
        "import pandas as pd\n",
        "import matplotlib.pyplot as plt\n",
        "from sklearn.model_selection import train_test_split\n",
        "from keras.utils import to_categorical\n",
        "from tqdm import tqdm"
      ],
      "metadata": {
        "id": "C5za0StrrrLJ"
      },
      "execution_count": 7,
      "outputs": []
    },
    {
      "cell_type": "markdown",
      "source": [
        "#train"
      ],
      "metadata": {
        "id": "RrsQbVBYcUwX"
      }
    },
    {
      "cell_type": "code",
      "source": [
        "train = pd.read_csv('/content/drive/MyDrive/DT/train.csv')"
      ],
      "metadata": {
        "id": "ehxsFepvr2Ml"
      },
      "execution_count": 10,
      "outputs": []
    },
    {
      "cell_type": "code",
      "source": [
        "# Specify the folder containing the images\n",
        "image_folder_path = '/content/drive/MyDrive/DT/train'\n",
        "\n",
        "# Create a list to store processed images\n",
        "image_data = []\n",
        "\n",
        "# Iterate over the rows of the DataFrame\n",
        "for i in tqdm(range(train.shape[0])):\n",
        "    # Construct the file path for the current image\n",
        "    img_path = os.path.join(image_folder_path, train['Image Names'][i])\n",
        "\n",
        "    # Load and preprocess the image\n",
        "    img = image.load_img(img_path, target_size=(28, 28, 3), grayscale=False)\n",
        "    img = image.img_to_array(img)\n",
        "    img = img / 255.0  # Normalize pixel values\n",
        "\n",
        "    # Append the processed image to the list\n",
        "    image_data.append(img)\n",
        "\n",
        "# Convert the list to a numpy array\n",
        "X = np.array(image_data)"
      ],
      "metadata": {
        "colab": {
          "base_uri": "https://localhost:8080/"
        },
        "id": "5xUwlyxdvUlC",
        "outputId": "b96e3044-aa38-4e40-fa25-43c07a22c782"
      },
      "execution_count": 11,
      "outputs": [
        {
          "output_type": "stream",
          "name": "stderr",
          "text": [
            "100%|██████████| 139/139 [01:11<00:00,  1.96it/s]\n"
          ]
        }
      ]
    },
    {
      "cell_type": "code",
      "source": [
        "y=train['Labels'].values\n",
        "y = to_categorical(y)"
      ],
      "metadata": {
        "id": "qGs4nlRlsPfM"
      },
      "execution_count": 12,
      "outputs": []
    },
    {
      "cell_type": "code",
      "source": [
        "X_train, X_test, y_train, y_test = train_test_split(X, y, random_state=42, test_size=0.2)"
      ],
      "metadata": {
        "id": "6fch7wZKw5pF"
      },
      "execution_count": 13,
      "outputs": []
    },
    {
      "cell_type": "code",
      "source": [
        "model = Sequential()\n",
        "model.add(Conv2D(32, kernel_size=(3, 3),activation='relu',input_shape=(28,28,3)))\n",
        "model.add(Conv2D(64, (3, 3), activation='relu'))\n",
        "model.add(MaxPooling2D(pool_size=(2, 2)))\n",
        "model.add(Dropout(0.25))\n",
        "model.add(Flatten())\n",
        "model.add(Dense(128, activation='relu'))\n",
        "model.add(Dropout(0.5))\n",
        "model.add(Dense(2, activation='softmax'))"
      ],
      "metadata": {
        "id": "12nrIshyxCJ2"
      },
      "execution_count": 14,
      "outputs": []
    },
    {
      "cell_type": "code",
      "source": [
        "model.compile(loss='categorical_crossentropy',optimizer='Adam',metrics=['accuracy'])"
      ],
      "metadata": {
        "id": "fOCEq5pkxFyM"
      },
      "execution_count": 15,
      "outputs": []
    },
    {
      "cell_type": "markdown",
      "source": [
        "#validation"
      ],
      "metadata": {
        "id": "IN0LzVelccCS"
      }
    },
    {
      "cell_type": "code",
      "source": [
        "# Load CSV file for validation data\n",
        "validation_csv_path = '/content/drive/MyDrive/DT/validation.csv'\n",
        "df_validation = pd.read_csv(validation_csv_path)\n",
        "# Load and preprocess validation images\n",
        "validation_image_data = []\n",
        "for i in tqdm(range(df_validation.shape[0])):\n",
        "    img_path = os.path.join('/content/drive/MyDrive/DT/validation', df_validation['Image Names'][i])\n",
        "    img = image.load_img(img_path, target_size=(28, 28, 3), grayscale=False)\n",
        "    img = image.img_to_array(img)\n",
        "    img = img / 255.0\n",
        "    validation_image_data.append(img)\n",
        "\n",
        "X_validation = np.array(validation_image_data)\n",
        "\n",
        "# Extract labels and one-hot encode them\n",
        "y_validation = df_validation['Labels'].values\n",
        "y_validation_one_hot = to_categorical(y_validation)"
      ],
      "metadata": {
        "colab": {
          "base_uri": "https://localhost:8080/"
        },
        "id": "ED1teTGRz_oo",
        "outputId": "d1e16ea1-7958-404b-ffae-130be2ec69dc"
      },
      "execution_count": 16,
      "outputs": [
        {
          "output_type": "stream",
          "name": "stderr",
          "text": [
            "100%|██████████| 29/29 [00:13<00:00,  2.12it/s]\n"
          ]
        }
      ]
    },
    {
      "cell_type": "code",
      "source": [
        "model.compile(loss='categorical_crossentropy', optimizer='adam', metrics=['accuracy'])\n"
      ],
      "metadata": {
        "id": "tObKR5p9y11r"
      },
      "execution_count": 17,
      "outputs": []
    },
    {
      "cell_type": "markdown",
      "source": [
        "#graph\n"
      ],
      "metadata": {
        "id": "Wv9hXnlRci2G"
      }
    },
    {
      "cell_type": "code",
      "source": [
        "history = model.fit(X_train, y_train, epochs=10, validation_data=(X_validation, y_validation_one_hot))\n",
        "\n",
        "# Plot training history\n",
        "plt.plot(history.history['accuracy'], label='Training Accuracy')\n",
        "plt.plot(history.history['val_accuracy'], label='Validation Accuracy')\n",
        "plt.xlabel('Epoch')\n",
        "plt.ylabel('Accuracy')\n",
        "plt.legend()\n",
        "plt.show()\n"
      ],
      "metadata": {
        "colab": {
          "base_uri": "https://localhost:8080/",
          "height": 796
        },
        "id": "gBFtWUNz1qFc",
        "outputId": "f7b390e6-3801-45e4-9184-6d13db2a9411"
      },
      "execution_count": 24,
      "outputs": [
        {
          "output_type": "stream",
          "name": "stdout",
          "text": [
            "Epoch 1/10\n",
            "4/4 [==============================] - 0s 60ms/step - loss: 0.0021 - accuracy: 1.0000 - val_loss: 0.3085 - val_accuracy: 0.8966\n",
            "Epoch 2/10\n",
            "4/4 [==============================] - 0s 53ms/step - loss: 0.0017 - accuracy: 1.0000 - val_loss: 0.3098 - val_accuracy: 0.8966\n",
            "Epoch 3/10\n",
            "4/4 [==============================] - 0s 50ms/step - loss: 0.0021 - accuracy: 1.0000 - val_loss: 0.2875 - val_accuracy: 0.8621\n",
            "Epoch 4/10\n",
            "4/4 [==============================] - 0s 54ms/step - loss: 0.0014 - accuracy: 1.0000 - val_loss: 0.2862 - val_accuracy: 0.8621\n",
            "Epoch 5/10\n",
            "4/4 [==============================] - 0s 53ms/step - loss: 0.0017 - accuracy: 1.0000 - val_loss: 0.2951 - val_accuracy: 0.8966\n",
            "Epoch 6/10\n",
            "4/4 [==============================] - 0s 53ms/step - loss: 8.0772e-04 - accuracy: 1.0000 - val_loss: 0.3056 - val_accuracy: 0.8966\n",
            "Epoch 7/10\n",
            "4/4 [==============================] - 0s 52ms/step - loss: 0.0010 - accuracy: 1.0000 - val_loss: 0.3081 - val_accuracy: 0.8966\n",
            "Epoch 8/10\n",
            "4/4 [==============================] - 0s 53ms/step - loss: 7.7780e-04 - accuracy: 1.0000 - val_loss: 0.2956 - val_accuracy: 0.8966\n",
            "Epoch 9/10\n",
            "4/4 [==============================] - 0s 56ms/step - loss: 0.0015 - accuracy: 1.0000 - val_loss: 0.2895 - val_accuracy: 0.8621\n",
            "Epoch 10/10\n",
            "4/4 [==============================] - 0s 52ms/step - loss: 0.0013 - accuracy: 1.0000 - val_loss: 0.3385 - val_accuracy: 0.8621\n"
          ]
        },
        {
          "output_type": "display_data",
          "data": {
            "text/plain": [
              "<Figure size 640x480 with 1 Axes>"
            ],
            "image/png": "[encoded data removed]"
          },
          "metadata": {}
        }
      ]
    },
    {
      "cell_type": "markdown",
      "source": [
        "#test"
      ],
      "metadata": {
        "id": "zWY6VUincobw"
      }
    },
    {
      "cell_type": "code",
      "source": [
        "# Load CSV file for test data\n",
        "test_csv_path = '/content/drive/MyDrive/DT/test.csv'\n",
        "df_test = pd.read_csv(test_csv_path)\n",
        "\n",
        "# Load and preprocess test images\n",
        "test_image_data = []\n",
        "for i in tqdm(range(df_test.shape[0])):\n",
        "    img_path = os.path.join('/content/drive/MyDrive/DT/test', df_test['Image Names'][i])\n",
        "    img = image.load_img(img_path, target_size=(28, 28, 3), grayscale=False)\n",
        "    img = image.img_to_array(img)\n",
        "    img = img / 255.0\n",
        "    test_image_data.append(img)\n",
        "\n",
        "X_test = np.array(test_image_data)\n",
        "\n",
        "\n"
      ],
      "metadata": {
        "colab": {
          "base_uri": "https://localhost:8080/"
        },
        "id": "k9w3MN1A3n4d",
        "outputId": "43c42e67-6522-45da-d02c-8f2e8518cca6"
      },
      "execution_count": 25,
      "outputs": [
        {
          "output_type": "stream",
          "name": "stderr",
          "text": [
            "100%|██████████| 31/31 [00:14<00:00,  2.08it/s]\n"
          ]
        }
      ]
    },
    {
      "cell_type": "markdown",
      "source": [
        "#prediction"
      ],
      "metadata": {
        "id": "LZKcHE-Wcy1h"
      }
    },
    {
      "cell_type": "code",
      "source": [
        "# Assuming you have already defined 'num_classes' based on the number of classes in your problem\n",
        "# Replace 'num_classes' with the actual number of classes in your problem\n",
        "num_classes = 10  # Replace with your actual number of classes\n",
        "\n",
        "# Use model.predict to get the raw predictions\n",
        "raw_predictions = model.predict(X_test)\n",
        "\n",
        "# Use numpy.argmax to get the index of the class with the highest probability for each sample\n",
        "predicted_classes = np.argmax(raw_predictions, axis=1)\n",
        "\n",
        "# If your labels are one-hot encoded, you might want to convert them back to categorical indices\n",
        "# Skip this step if your labels are already categorical indices\n",
        "# Replace 'num_classes' with the actual number of classes in your problem\n",
        "predicted_classes_categorical = to_categorical(predicted_classes, num_classes=num_classes)\n",
        "\n",
        "# Now, 'predicted_classes_categorical' contains the predicted classes in one-hot encoded format\n",
        "# If you want the predicted classes in categorical index format, use 'predicted_classes'\n"
      ],
      "metadata": {
        "colab": {
          "base_uri": "https://localhost:8080/"
        },
        "id": "bdBfxYc44h8k",
        "outputId": "846ac387-ecd2-4ae7-ba9e-68093fed45d8"
      },
      "execution_count": 26,
      "outputs": [
        {
          "output_type": "stream",
          "name": "stdout",
          "text": [
            "1/1 [==============================] - 0s 84ms/step\n"
          ]
        }
      ]
    },
    {
      "cell_type": "markdown",
      "source": [
        "#download\n"
      ],
      "metadata": {
        "id": "xg6JXJAzc5D1"
      }
    },
    {
      "cell_type": "code",
      "source": [
        "model.save('Wasteclass.keras')\n",
        "files.download('Wasteclass.keras')"
      ],
      "metadata": {
        "colab": {
          "base_uri": "https://localhost:8080/",
          "height": 17
        },
        "id": "cHIfI5gXGSus",
        "outputId": "a07d7572-b085-49ad-c8e6-179d30a3f895"
      },
      "execution_count": 27,
      "outputs": [
        {
          "output_type": "display_data",
          "data": {
            "text/plain": [
              "<IPython.core.display.Javascript object>"
            ],
            "application/javascript": [
              "\n",
              "    async function download(id, filename, size) {\n",
              "      if (!google.colab.kernel.accessAllowed) {\n",
              "        return;\n",
              "      }\n",
              "      const div = document.createElement('div');\n",
              "      const label = document.createElement('label');\n",
              "      label.textContent = `Downloading \"${filename}\": `;\n",
              "      div.appendChild(label);\n",
              "      const progress = document.createElement('progress');\n",
              "      progress.max = size;\n",
              "      div.appendChild(progress);\n",
              "      document.body.appendChild(div);\n",
              "\n",
              "      const buffers = [];\n",
              "      let downloaded = 0;\n",
              "\n",
              "      const channel = await google.colab.kernel.comms.open(id);\n",
              "      // Send a message to notify the kernel that we're ready.\n",
              "      channel.send({})\n",
              "\n",
              "      for await (const message of channel.messages) {\n",
              "        // Send a message to notify the kernel that we're ready.\n",
              "        channel.send({})\n",
              "        if (message.buffers) {\n",
              "          for (const buffer of message.buffers) {\n",
              "            buffers.push(buffer);\n",
              "            downloaded += buffer.byteLength;\n",
              "            progress.value = downloaded;\n",
              "          }\n",
              "        }\n",
              "      }\n",
              "      const blob = new Blob(buffers, {type: 'application/binary'});\n",
              "      const a = document.createElement('a');\n",
              "      a.href = window.URL.createObjectURL(blob);\n",
              "      a.download = filename;\n",
              "      div.appendChild(a);\n",
              "      a.click();\n",
              "      div.remove();\n",
              "    }\n",
              "  "
            ]
          },
          "metadata": {}
        },
        {
          "output_type": "display_data",
          "data": {
            "text/plain": [
              "<IPython.core.display.Javascript object>"
            ],
            "application/javascript": [
              "download(\"download_2eb0c14b-7e29-425d-bc31-8f82ce768b80\", \"Wasteclass.keras\", 14432132)"
            ]
          },
          "metadata": {}
        }
      ]
    },
    {
      "cell_type": "markdown",
      "source": [
        "#modelimplementation"
      ],
      "metadata": {
        "id": "AwBbiqxQhvce"
      }
    },
    {
      "cell_type": "code",
      "source": [
        "from keras.models import load_model\n",
        "\n",
        "model = load_model('/content/Wasteclass.keras')\n"
      ],
      "metadata": {
        "id": "u0L2YoVrHqgs"
      },
      "execution_count": 28,
      "outputs": []
    },
    {
      "cell_type": "code",
      "source": [
        "from IPython.display import display, Javascript\n",
        "from google.colab.output import eval_js\n",
        "from base64 import b64decode, b64encode\n",
        "import cv2\n",
        "import numpy as np\n",
        "from tensorflow.keras.models import load_model\n",
        "from tensorflow.keras.preprocessing import image\n",
        "from tensorflow.keras.applications.inception_v3 import preprocess_input, decode_predictions\n",
        "import tensorflow as tf\n",
        "\n",
        "# Load your trained model\n",
        "model = load_model('/content/Wasteclass.keras')\n",
        "\n",
        "def take_photo(quality=0.8):\n",
        "    js = Javascript('''\n",
        "        async function takePhoto(quality) {\n",
        "            const div = document.createElement('div');\n",
        "            const capture = document.createElement('button');\n",
        "            capture.textContent = 'Capture';\n",
        "            div.appendChild(capture);\n",
        "\n",
        "            const video = document.createElement('video');\n",
        "            video.style.display = 'block';\n",
        "            const stream = await navigator.mediaDevices.getUserMedia({video: true});\n",
        "\n",
        "            document.body.appendChild(div);\n",
        "            div.appendChild(video);\n",
        "            video.srcObject = stream;\n",
        "            await video.play();\n",
        "\n",
        "            // Resize the output to fit the video element.\n",
        "            google.colab.output.setIframeHeight(document.documentElement.scrollHeight, true);\n",
        "\n",
        "            // Wait for Capture to be clicked.\n",
        "            await new Promise((resolve) => capture.onclick = resolve);\n",
        "\n",
        "            const canvas = document.createElement('canvas');\n",
        "            canvas.width = video.videoWidth;\n",
        "            canvas.height = video.videoHeight;\n",
        "            canvas.getContext('2d').drawImage(video, 0, 0);\n",
        "            stream.getVideoTracks()[0].stop();\n",
        "            div.remove();\n",
        "            return canvas.toDataURL('image/jpeg', quality);\n",
        "        }\n",
        "    ''')\n",
        "    display(js)\n",
        "    data = eval_js('takePhoto({})'.format(quality))\n",
        "    return data\n",
        "\n",
        "def preprocess_image(image_data):\n",
        "    try:\n",
        "        # Convert the base64 image data to bytes\n",
        "        image_binary = b64decode(image_data.split(',')[1])\n",
        "\n",
        "        # Convert bytes to numpy array\n",
        "        image_np = np.frombuffer(image_binary, dtype=np.uint8)\n",
        "\n",
        "        # Debugging: Print the shape of the numpy array\n",
        "        print(\"Shape of image_np:\", image_np.shape)\n",
        "\n",
        "        # Decode the image\n",
        "        img = cv2.imdecode(image_np, cv2.IMREAD_COLOR)\n",
        "\n",
        "        if img is None:\n",
        "            raise ValueError(\"Error decoding image with cv2.imdecode. Check if the image data is valid.\")\n",
        "\n",
        "        # Resize the image to match the model's input size\n",
        "        img = cv2.resize(img, (28, 28))  # Resize to (28, 28)\n",
        "\n",
        "        # Normalize pixel values\n",
        "        img = img / 255.0\n",
        "\n",
        "        return img\n",
        "\n",
        "    except Exception as e:\n",
        "        print(f\"Error in preprocess_image: {str(e)}\")\n",
        "        return None\n",
        "\n",
        "\n",
        "def classify_image(image_data):\n",
        "    preprocessed_image = preprocess_image(image_data)\n",
        "    if preprocessed_image is None:\n",
        "        return None\n",
        "\n",
        "    # Make predictions using the loaded model\n",
        "    predictions = model.predict(np.expand_dims(preprocessed_image, axis=0))\n",
        "\n",
        "    # Get the top prediction\n",
        "    top_prediction_index = np.argmax(predictions, axis=1)[0]\n",
        "    return top_prediction_index\n",
        "\n",
        "def take_photo_and_classify(quality=0.8):\n",
        "    try:\n",
        "        # Capture photo\n",
        "        image_data = take_photo(quality)\n",
        "\n",
        "        # Preprocess the captured frame\n",
        "        preprocessed_frame = preprocess_image(image_data)\n",
        "\n",
        "        if preprocessed_frame is None:\n",
        "            return \"Error: Image preprocessing failed.\"\n",
        "\n",
        "        # Make predictions using the loaded model\n",
        "        predictions = model.predict(np.expand_dims(preprocessed_frame, axis=0))\n",
        "\n",
        "        # Get the top prediction\n",
        "        top_prediction_index = np.argmax(predictions, axis=1)[0]\n",
        "\n",
        "        # Return the result\n",
        "        return top_prediction_index\n",
        "\n",
        "    except Exception as e:\n",
        "        return f\"Error: {str(e)}\"\n",
        "\n",
        "# Perform image capture and classification\n",
        "result = take_photo_and_classify()\n",
        "\n",
        "# Display the result (you can customize this part based on your needs)\n",
        "if result is not None:\n",
        "    if(result==1):\n",
        "        print(\"Predicted class: Biodegradable\")\n",
        "    else:\n",
        "        print(\"Predicted Class: Non Biodegradable\")\n",
        "\n",
        "\n"
      ],
      "metadata": {
        "id": "vjzegga9VFut",
        "colab": {
          "base_uri": "https://localhost:8080/",
          "height": 69
        },
        "outputId": "fd77741b-4640-462f-9874-c8ee62151af0"
      },
      "execution_count": 41,
      "outputs": [
        {
          "output_type": "display_data",
          "data": {
            "text/plain": [
              "<IPython.core.display.Javascript object>"
            ],
            "application/javascript": [
              "\n",
              "        async function takePhoto(quality) {\n",
              "            const div = document.createElement('div');\n",
              "            const capture = document.createElement('button');\n",
              "            capture.textContent = 'Capture';\n",
              "            div.appendChild(capture);\n",
              "\n",
              "            const video = document.createElement('video');\n",
              "            video.style.display = 'block';\n",
              "            const stream = await navigator.mediaDevices.getUserMedia({video: true});\n",
              "\n",
              "            document.body.appendChild(div);\n",
              "            div.appendChild(video);\n",
              "            video.srcObject = stream;\n",
              "            await video.play();\n",
              "\n",
              "            // Resize the output to fit the video element.\n",
              "            google.colab.output.setIframeHeight(document.documentElement.scrollHeight, true);\n",
              "\n",
              "            // Wait for Capture to be clicked.\n",
              "            await new Promise((resolve) => capture.onclick = resolve);\n",
              "\n",
              "            const canvas = document.createElement('canvas');\n",
              "            canvas.width = video.videoWidth;\n",
              "            canvas.height = video.videoHeight;\n",
              "            canvas.getContext('2d').drawImage(video, 0, 0);\n",
              "            stream.getVideoTracks()[0].stop();\n",
              "            div.remove();\n",
              "            return canvas.toDataURL('image/jpeg', quality);\n",
              "        }\n",
              "    "
            ]
          },
          "metadata": {}
        },
        {
          "output_type": "stream",
          "name": "stdout",
          "text": [
            "Shape of image_np: (22784,)\n",
            "1/1 [==============================] - 0s 71ms/step\n",
            "Predicted class: Biodegradable\n"
          ]
        }
      ]
    },
    {
      "cell_type": "markdown",
      "source": [],
      "metadata": {
        "id": "bwrmZ2DjJw14"
      }
    },
    {
      "cell_type": "code",
      "source": [],
      "metadata": {
        "id": "TXJKIRRjXCek"
      },
      "execution_count": null,
      "outputs": []
    }
  ]
}